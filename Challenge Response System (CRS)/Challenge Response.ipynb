{
 "cells": [
  {
   "cell_type": "markdown",
   "id": "6d35469b",
   "metadata": {},
   "source": [
    "# Friend or Foe: Challenge & Response System (CRS)"
   ]
  },
  {
   "cell_type": "markdown",
   "id": "62164829",
   "metadata": {},
   "source": [
    "## Objective "
   ]
  },
  {
   "cell_type": "markdown",
   "id": "85d0869a",
   "metadata": {},
   "source": [
    "\n",
    "Although the camouflage identification system will provide initial friend/foe identification, an AI model alone is not sufficient when exposed to an adversarial actor. "
   ]
  },
  {
   "cell_type": "markdown",
   "id": "287d632f",
   "metadata": {},
   "source": [
    "## Physical Architecture"
   ]
  },
  {
   "cell_type": "markdown",
   "id": "e274b194",
   "metadata": {},
   "source": [
    "The challenge & response system has 2 physical parts:\n",
    "1. Enhanced Weapon System (EWS)\n",
    "\n",
    "    * Weapon optic system with AI model\n",
    "    * Long range directional antenna\n",
    "    * Software defined radio (SDR)\n",
    "\n",
    "2. Soldier Uniforms with Embedded Receiver / Transponder Units"
   ]
  },
  {
   "cell_type": "markdown",
   "id": "5eaed322",
   "metadata": {},
   "source": [
    "### Enhanced Weapon System (EWS) Architecture"
   ]
  },
  {
   "cell_type": "markdown",
   "id": "41060b99",
   "metadata": {},
   "source": [
    "![Weapon Image](./ar-image.png \"EWS Image\")"
   ]
  },
  {
   "cell_type": "markdown",
   "id": "e9aca294",
   "metadata": {},
   "source": [
    "### Software Architecture"
   ]
  },
  {
   "cell_type": "markdown",
   "id": "4eed3ea2",
   "metadata": {},
   "source": [
    "From a software perspective, there are 2 components:\n",
    "    \n",
    "1. Challenge request & validation system embedded within the SDR. For our purposes can be referred to as the server. The server is embedded into the firmware of the SDR.\n",
    "\n",
    "2. Response system embedded into the firmware of the military uniforms. This portion is the client."
   ]
  },
  {
   "cell_type": "markdown",
   "id": "6ecfa97b",
   "metadata": {},
   "source": [
    "## Running Code"
   ]
  },
  {
   "cell_type": "markdown",
   "id": "f60906fb",
   "metadata": {},
   "source": [
    "Although you are welcome to view the python code here, you must run it in outside the scope of Jupiter to successfully listen for connections as the server, and make connections as the client."
   ]
  },
  {
   "cell_type": "markdown",
   "id": "3986ad80",
   "metadata": {},
   "source": [
    "## Server Code (Run in Terminal)"
   ]
  },
  {
   "cell_type": "code",
   "execution_count": 1,
   "id": "7a6ff156",
   "metadata": {},
   "outputs": [
    {
     "name": "stdout",
     "output_type": "stream",
     "text": [
      "Server is online & awaiting connections. Point the firearm at a target.\n",
      "System has timed-out.\n"
     ]
    }
   ],
   "source": [
    "import socket\n",
    "\n",
    "targetChallenge = \"<missionSpecificPassword>\"\n",
    "lengthOfMission = 1 # days until timeout\n",
    "\n",
    "def serverMain():\n",
    "    hostname = socket.gethostname()\n",
    "    port = 9999 \n",
    "    server_socket = socket.socket()  # get instance\n",
    "    server_socket.setsockopt(socket.SOL_SOCKET, socket.SO_REUSEADDR, 1) # allow the socket to be reused\n",
    "    server_socket.settimeout(86400 * lengthOfMission) # Only wait 3 seconds for data, otherwise determine no data is provided\n",
    "    server_socket.bind((hostname, port))  # bind host address and port together\n",
    "    server_socket.listen(1)  # configure how many clients the server can listen simultaneously (1 target at a time for our use)\n",
    "    print(\"Server is online & awaiting connections. Point the firearm at a target.\")\n",
    "    \n",
    "    try:\n",
    "        while True:\n",
    "            conn, address = server_socket.accept()\n",
    "            if(conn, address):\n",
    "                print(\"Connection from: \" + str(address))\n",
    "                \n",
    "                # receive data stream. it won't accept data packet greater than 1024 bytes\n",
    "                data = conn.recv(1024).decode()\n",
    "                if data:\n",
    "                    if targetChallenge in data:\n",
    "                        targetIsFriendly(address)\n",
    "                    else:\n",
    "                        targetIsUnknown(address)\n",
    "                        print(f\"Data received:{data}\")\n",
    "                        # Why is target unknown if they fail the challenge/response test?\n",
    "                        # A target may fail the challenge response check for several reasons, not all of which indicate a foe.\n",
    "                        # For example, if a friendly target has become detached from his group and during which time, the passcode has changed, they are friendly and should not be killed, however they will fail CRS.\n",
    "                else:\n",
    "                    break\n",
    "    except socket.timeout:\n",
    "            onMissionTimeout()\n",
    "    finally:\n",
    "        try:\n",
    "            conn.close()  # always close the connection\n",
    "            print(\"Connection closed\")\n",
    "        except:\n",
    "            pass\n",
    "    \n",
    "def targetIsFriendly(address):\n",
    "    print(f\"Target at address: {address} is a friendly. DO NOT SHOOT!\")\n",
    "    # Update optic system to represent friendly target\n",
    "    \n",
    "def targetIsUnknown(address):\n",
    "    print(f\"Target at address: {address} is a unknown. Proceed with caution\")\n",
    "    # Update optic system to represent unknown target\n",
    "    \n",
    "def onMissionTimeout():\n",
    "    print(\"System has timed-out.\")\n",
    "    exit(1)\n",
    "    \n",
    "serverMain()"
   ]
  },
  {
   "cell_type": "markdown",
   "id": "dc4f2e27",
   "metadata": {},
   "source": [
    "## Friendly Client Code (Run in Terminal) -- Server Will Identify as Friendly"
   ]
  },
  {
   "cell_type": "code",
   "execution_count": 2,
   "id": "36ffe1c8",
   "metadata": {},
   "outputs": [
    {
     "name": "stdout",
     "output_type": "stream",
     "text": [
      "Client started\n",
      "Sending response to server...\n",
      "Response sent\n"
     ]
    }
   ],
   "source": [
    "import socket\n",
    "\n",
    "targetResponse = \"<missionSpecificPassword>\"\n",
    "\n",
    "def clientMain():\n",
    "    print(\"Client started\")\n",
    "    hostname = socket.gethostname()  # as both code is running on same computer\n",
    "    port = 9999  # socket server port number\n",
    "    client_socket = socket.socket()  # instantiate\n",
    "    client_socket.connect((hostname, port))  # connect to the server\n",
    "    print(\"Sending response to server...\")\n",
    "    client_socket.send(targetResponse.encode())  # send message\n",
    "    print(\"Response sent\")\n",
    "    client_socket.close()  # close the connection\n",
    "\n",
    "clientMain()"
   ]
  },
  {
   "cell_type": "markdown",
   "id": "e5a7f703",
   "metadata": {},
   "source": [
    "## Unknown Client Code (Run in Terminal) -- Server Will Identify as Unknown"
   ]
  },
  {
   "cell_type": "code",
   "execution_count": null,
   "id": "e310263f",
   "metadata": {},
   "outputs": [],
   "source": [
    "import socket\n",
    "\n",
    "targetResponse = \"someOtherPassword\"\n",
    "\n",
    "def clientMain():\n",
    "    print(\"Client started\")\n",
    "    hostname = socket.gethostname()  # as both code is running on same computer\n",
    "    port = 9999  # socket server port number\n",
    "    client_socket = socket.socket()  # instantiate\n",
    "    client_socket.connect((hostname, port))  # connect to the server\n",
    "    print(\"Sending response to server...\")\n",
    "    client_socket.send(targetResponse.encode())  # send message\n",
    "    print(\"Response sent\")\n",
    "    client_socket.close()  # close the connection\n",
    "\n",
    "clientMain()"
   ]
  },
  {
   "cell_type": "markdown",
   "id": "a0ad3436",
   "metadata": {},
   "source": [
    "# Important!!\n",
    "\n",
    "**Due to the TCP protocol being overly concerned with syn/acking all potential packets, despite the fact that we closed the connection of the server, it will remain active for a few mins, sitting in the TIME_WAIT TCP State and waiting for a final packet.This is a security risk!**\n",
    "\n",
    "For more information on why this is, please see: https://en.wikipedia.org/wiki/Transmission_Control_Protocol\n",
    "\n",
    "Please be sure to run the code below <u>in your terminal, not in this notebook</u> to actually kill the socket."
   ]
  },
  {
   "cell_type": "code",
   "execution_count": null,
   "id": "d377f524",
   "metadata": {},
   "outputs": [],
   "source": [
    "# Run this command in your terminal to fully close the socket.\n",
    "kill $(lsof -t -i:9999)"
   ]
  },
  {
   "cell_type": "markdown",
   "id": "90237302",
   "metadata": {},
   "source": [
    "## Verify that the socket is truly free"
   ]
  },
  {
   "cell_type": "code",
   "execution_count": null,
   "id": "bda3adf4",
   "metadata": {},
   "outputs": [],
   "source": [
    "# Run this command in your terminal, if you get results it is not free, if you don't it is:\n",
    "lsof -t -i:9999"
   ]
  },
  {
   "cell_type": "markdown",
   "id": "192dfff0",
   "metadata": {},
   "source": [
    "### Considerations"
   ]
  },
  {
   "cell_type": "markdown",
   "id": "3c5049ea",
   "metadata": {},
   "source": [
    "The goal of the CRS is merely to confirm the classification of the AI model, not to stand-alone. Without the aid of the AI system, the overall friend-or-foe system is not suitable for operational use. The CRS has been designed to be fail-safe, meaning that if an error occurs or if the system is not sure wether a target should be confirmed as friendly, it will not be. Furthermore, the system has been purpose built to render itself inoperable should the system fall into the hands of an enemy, further ensuring that the system is not turned against the operator."
   ]
  },
  {
   "cell_type": "markdown",
   "id": "609ec98b",
   "metadata": {},
   "source": [
    "## Sources:"
   ]
  },
  {
   "cell_type": "markdown",
   "id": "570e7084",
   "metadata": {},
   "source": [
    "\\[1]: https://www.kindpng.com/picc/m/250-2508509_transparent-ar15-clipart-outline-ar-15-drawing-hd.png\n",
    "\n",
    "\\[2]: https://rfengineer.net/wp-content/uploads/2021/03/What-do-I-need-for-SDR-radio-1.png\n",
    "\n",
    "\\[3]: https://www.digitalocean.com/community/tutorials/python-socket-programming-server-client"
   ]
  }
 ],
 "metadata": {
  "kernelspec": {
   "display_name": "Python 3 (ipykernel)",
   "language": "python",
   "name": "python3"
  },
  "language_info": {
   "codemirror_mode": {
    "name": "ipython",
    "version": 3
   },
   "file_extension": ".py",
   "mimetype": "text/x-python",
   "name": "python",
   "nbconvert_exporter": "python",
   "pygments_lexer": "ipython3",
   "version": "3.11.5"
  }
 },
 "nbformat": 4,
 "nbformat_minor": 5
}
